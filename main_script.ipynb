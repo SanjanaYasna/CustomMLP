{
 "cells": [
  {
   "cell_type": "code",
   "execution_count": null,
   "metadata": {},
   "outputs": [],
   "source": [
    "#Self-hyperparam selection: https://link.springer.com/article/10.1007/s11063-024-11578-0\n",
    "#Self-pruning: https://github.com/skarifahmed/seMLP/blob/main/src/Prune.py"
   ]
  },
  {
   "cell_type": "code",
   "execution_count": null,
   "metadata": {},
   "outputs": [],
   "source": [
    "from utils import Utils\n",
    "from color import color \n",
    "import pandas as pd\n",
    "import numpy as np\n",
    "import os\n",
    "# libraries\n",
    "import joblib\n",
    "\n",
    "# scale features\n",
    "from sklearn import preprocessing\n",
    "from sklearn import impute\n",
    "# classifier\n",
    "from sklearn.ensemble import ExtraTreesClassifier\n",
    "# scoring metrics\n",
    "from sklearn.metrics import confusion_matrix, matthews_corrcoef\n",
    "\n",
    "# custom scripts\n",
    "import sys\n",
    "sys.path.insert(0, \"%s\" % \"CV/\")\n",
    "from sklearn.model_selection import train_test_split, GridSearchCV, GroupShuffleSplit, StratifiedShuffleSplit, cross_validate, StratifiedKFold\n",
    "from sklearn.metrics import roc_curve, auc, recall_score, accuracy_score, precision_score, confusion_matrix, make_scorer, matthews_corrcoef, jaccard_score"
   ]
  },
  {
   "cell_type": "code",
   "execution_count": 2,
   "metadata": {},
   "outputs": [],
   "source": [
    "site_path = \"/Users/sanjanayasna/csc334/MLP_MAHOMES/data/sites_calculated_features.txt\""
   ]
  },
  {
   "cell_type": "code",
   "execution_count": 3,
   "metadata": {},
   "outputs": [
    {
     "name": "stdout",
     "output_type": "stream",
     "text": [
      "\u001b[1mAll features:\u001b[0m\n",
      "sites: 3981 \tcolumns: 485\n",
      "Set   Catalytic\n",
      "data  False        2636\n",
      "      True          829\n",
      "test  False         345\n",
      "      True          171\n",
      "dtype: int64\n"
     ]
    }
   ],
   "source": [
    "#read in feature set:\n",
    "sites = pd.read_csv(site_path)\n",
    "sites = sites.set_index('SITE_ID',drop=True)\n",
    "\n",
    "# The following labels need to be changed after looking over literature (see Feehan, Franklin, Slusky 2021)\n",
    "change_site_labels = [\"5zb8_0\", \"6aci_0\", \"6oq7_0\", \"6pjv_1\", \"6q55_0\",\n",
    "                      \"6q55_2\", \"6rmg_0\", \"6rtg_0\", \"6rw0_0\", \"6v77_0\"]\n",
    "\n",
    "# The following sites are removed due to unkopwn correct labels (see Feehan, Franklin, Slusky 2021)\n",
    "sites.loc[sites.index.isin(change_site_labels), 'Catalytic']=True\n",
    "remove_sites = [\"6mf0_1\", \"6okh_0\", \"6qwo_0\", \"6r9n_0\"]\n",
    "sites=sites.loc[~sites.index.isin(remove_sites)]\n",
    "\n",
    "#print shape of dataset\n",
    "print(color.BOLD + \"All features:\" + color.END)\n",
    "print(\"sites: %s \\tcolumns: %s\"%(sites.shape[0], sites.shape[1]))\n",
    "sizes = sites.groupby([\"Set\", \"Catalytic\"]).size()\n",
    "print(sizes)"
   ]
  }
 ],
 "metadata": {
  "kernelspec": {
   "display_name": "Python 3",
   "language": "python",
   "name": "python3"
  },
  "language_info": {
   "codemirror_mode": {
    "name": "ipython",
    "version": 3
   },
   "file_extension": ".py",
   "mimetype": "text/x-python",
   "name": "python",
   "nbconvert_exporter": "python",
   "pygments_lexer": "ipython3",
   "version": "3.12.0"
  },
  "orig_nbformat": 4
 },
 "nbformat": 4,
 "nbformat_minor": 2
}
